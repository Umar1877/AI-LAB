{
  "nbformat": 4,
  "nbformat_minor": 0,
  "metadata": {
    "colab": {
      "provenance": []
    },
    "kernelspec": {
      "name": "python3",
      "display_name": "Python 3"
    },
    "language_info": {
      "name": "python"
    }
  },
  "cells": [
    {
      "cell_type": "code",
      "execution_count": 1,
      "metadata": {
        "colab": {
          "base_uri": "https://localhost:8080/"
        },
        "id": "Tjwk38JDdJPW",
        "outputId": "cc077f61-2564-4e33-9ce4-972df00a3b5b"
      },
      "outputs": [
        {
          "output_type": "stream",
          "name": "stdout",
          "text": [
            "Hello World!\n",
            "7\n"
          ]
        }
      ],
      "source": [
        "print('Hello World!')\n",
        "a=7\n",
        "print(a)"
      ]
    },
    {
      "cell_type": "code",
      "source": [
        "print(2345)"
      ],
      "metadata": {
        "colab": {
          "base_uri": "https://localhost:8080/"
        },
        "id": "vOGlgWvGdsmx",
        "outputId": "83c81797-18b3-4199-8665-0f03c9282c9a"
      },
      "execution_count": 2,
      "outputs": [
        {
          "output_type": "stream",
          "name": "stdout",
          "text": [
            "2345\n"
          ]
        }
      ]
    },
    {
      "cell_type": "code",
      "source": [
        "print(\"2092\")"
      ],
      "metadata": {
        "colab": {
          "base_uri": "https://localhost:8080/"
        },
        "id": "Txz_DTy9d5Nw",
        "outputId": "47f9f5dc-0da5-417c-b763-f71721df5fad"
      },
      "execution_count": 3,
      "outputs": [
        {
          "output_type": "stream",
          "name": "stdout",
          "text": [
            "2092\n"
          ]
        }
      ]
    },
    {
      "cell_type": "code",
      "source": [
        "a = 100\n",
        "#print(a)\n",
        "b = \"Python\"\n",
        "print(b)"
      ],
      "metadata": {
        "colab": {
          "base_uri": "https://localhost:8080/"
        },
        "id": "H8JvX0xjd9kN",
        "outputId": "df7efd5c-7dc6-4d45-b547-8eb86d68c638"
      },
      "execution_count": 6,
      "outputs": [
        {
          "output_type": "stream",
          "name": "stdout",
          "text": [
            "Python\n"
          ]
        }
      ]
    },
    {
      "cell_type": "code",
      "source": [
        "'''It's a course\n",
        "named\n",
        "\"python\"\n",
        "\n",
        "hf'''\n",
        "print(6)"
      ],
      "metadata": {
        "colab": {
          "base_uri": "https://localhost:8080/"
        },
        "id": "z_NyY8m8eOi-",
        "outputId": "359b7bee-e11c-49db-9dc6-ad9b8045627b"
      },
      "execution_count": 7,
      "outputs": [
        {
          "output_type": "stream",
          "name": "stdout",
          "text": [
            "6\n"
          ]
        }
      ]
    },
    {
      "cell_type": "code",
      "source": [
        "print(\"Let's learn about comments.\")\n",
        "# print(it is a single line comment)\n",
        "print(\"Icode\")\n"
      ],
      "metadata": {
        "colab": {
          "base_uri": "https://localhost:8080/"
        },
        "id": "W9o2Mb41eSUJ",
        "outputId": "b06fa663-d599-4eb1-92ef-fb2bd081e3b5"
      },
      "execution_count": 9,
      "outputs": [
        {
          "output_type": "stream",
          "name": "stdout",
          "text": [
            "Let's learn about comments.\n",
            "Icode\n"
          ]
        }
      ]
    },
    {
      "cell_type": "code",
      "source": [
        "print(\"\"\"Multi-line String\"\"\")\n",
        "'''for multi-line comment, you can use # with every line or\n",
        "simply use triple inverted commas(multi-line string).\n",
        "ar\n",
        "sar\n",
        "ahghjj \n",
        "'''\n",
        "#single line\n",
        "\n",
        "print(\"My name is ayesha. I'm a student at university.I'm a good student.\")\n",
        "\n"
      ],
      "metadata": {
        "colab": {
          "base_uri": "https://localhost:8080/"
        },
        "id": "6PehDy7_eZfi",
        "outputId": "3fb46952-c5da-4017-9313-d46f2458b134"
      },
      "execution_count": 10,
      "outputs": [
        {
          "output_type": "stream",
          "name": "stdout",
          "text": [
            "Multi-line String\n",
            "My name is ayesha. I'm a student at university.I'm a good student.\n"
          ]
        }
      ]
    },
    {
      "cell_type": "code",
      "source": [
        "a = \"a variable\"\n",
        "umar = \"won't allow a variable\"\n",
        "print(a)\n",
        "print(umar)"
      ],
      "metadata": {
        "colab": {
          "base_uri": "https://localhost:8080/"
        },
        "id": "mx_qiKftese1",
        "outputId": "ec625093-5b05-43fc-b185-57a2697c7e8e"
      },
      "execution_count": 12,
      "outputs": [
        {
          "output_type": "stream",
          "name": "stdout",
          "text": [
            "a variable\n",
            "won't allow a variable\n"
          ]
        }
      ]
    },
    {
      "cell_type": "code",
      "source": [
        "x = 5 \n",
        "y = 10.3\n",
        "print('x')\n",
        "print(y)\n",
        "print(x,y)"
      ],
      "metadata": {
        "colab": {
          "base_uri": "https://localhost:8080/"
        },
        "id": "Wo40uTVkfG4Z",
        "outputId": "6e648b0e-466d-4208-d47a-b180a84398b1"
      },
      "execution_count": 13,
      "outputs": [
        {
          "output_type": "stream",
          "name": "stdout",
          "text": [
            "x\n",
            "10.3\n",
            "5 10.3\n"
          ]
        }
      ]
    },
    {
      "cell_type": "code",
      "source": [
        "a = \"Icode\"\n",
        "b = 'Guru,'\n",
        "print(a,b)\n",
        "print(a,',',b)   #Shortcut ctrl + /"
      ],
      "metadata": {
        "colab": {
          "base_uri": "https://localhost:8080/"
        },
        "id": "pLl2jAhhfU2_",
        "outputId": "dbba06e0-5dbb-40e4-dcc0-41dd3ac26f5c"
      },
      "execution_count": 15,
      "outputs": [
        {
          "output_type": "stream",
          "name": "stdout",
          "text": [
            "Icode Guru,\n",
            "Icode , Guru,\n"
          ]
        }
      ]
    },
    {
      "cell_type": "code",
      "source": [
        "myvariable = \"Python\"\n",
        "print(\"myvariable\")"
      ],
      "metadata": {
        "colab": {
          "base_uri": "https://localhost:8080/"
        },
        "id": "4IW7ieiefbT5",
        "outputId": "3e4740c8-ce55-4316-9bf1-1178b7e286a3"
      },
      "execution_count": 16,
      "outputs": [
        {
          "output_type": "stream",
          "name": "stdout",
          "text": [
            "myvariable\n"
          ]
        }
      ]
    },
    {
      "cell_type": "code",
      "source": [
        "_myVar5 = \"iCodeGuru\"\n",
        "myVariableName = 95                 \n",
        "MyVariableName = 'Pakistan'         \n",
        "myVariableName = 88.5 \n",
        "print(myVariableName)            "
      ],
      "metadata": {
        "colab": {
          "base_uri": "https://localhost:8080/"
        },
        "id": "bP7ANuI8fuTf",
        "outputId": "c81e5eee-8326-4d5c-e63c-9b892e7c226f"
      },
      "execution_count": 17,
      "outputs": [
        {
          "output_type": "stream",
          "name": "stdout",
          "text": [
            "88.5\n"
          ]
        }
      ]
    },
    {
      "cell_type": "code",
      "source": [
        "a = 10\n",
        "a = 5\n",
        "print(a)"
      ],
      "metadata": {
        "colab": {
          "base_uri": "https://localhost:8080/"
        },
        "id": "cL56R6Vzfx9B",
        "outputId": "d2adb2c6-b414-434f-a87a-82872f0f87dc"
      },
      "execution_count": 18,
      "outputs": [
        {
          "output_type": "stream",
          "name": "stdout",
          "text": [
            "5\n"
          ]
        }
      ]
    },
    {
      "cell_type": "code",
      "source": [
        "camelCase = 100\n",
        "snake_case = 5.9\n",
        "PascalCase = \"Python\""
      ],
      "metadata": {
        "id": "1jfgbuTfgCUX"
      },
      "execution_count": 26,
      "outputs": []
    },
    {
      "cell_type": "code",
      "source": [
        "x, y, z = \"Orange\", 5, \"Apple\"\n",
        "print(x)\n",
        "print(y)\n",
        "print(z)\n",
        "a , b = 5 , 8\n",
        "print(a)\n",
        "print(b)\n"
      ],
      "metadata": {
        "colab": {
          "base_uri": "https://localhost:8080/"
        },
        "id": "a1g6xyQdhhEd",
        "outputId": "2bef9703-4638-40b3-b96c-32e259499833"
      },
      "execution_count": 27,
      "outputs": [
        {
          "output_type": "stream",
          "name": "stdout",
          "text": [
            "Orange\n",
            "5\n",
            "Apple\n",
            "5\n",
            "8\n"
          ]
        }
      ]
    },
    {
      "cell_type": "code",
      "source": [
        "x = y = z = \"Orange\"\n",
        "print(x)\n",
        "print(y)\n",
        "print(z)\n",
        "a = b = c = 1\n",
        "print(a)\n",
        "print(b)\n",
        "print(c)"
      ],
      "metadata": {
        "colab": {
          "base_uri": "https://localhost:8080/"
        },
        "id": "k9iDFV7ThvCx",
        "outputId": "52f55b12-9c0f-4f10-d924-b2c133e6d9c6"
      },
      "execution_count": 29,
      "outputs": [
        {
          "output_type": "stream",
          "name": "stdout",
          "text": [
            "Orange\n",
            "Orange\n",
            "Orange\n",
            "1\n",
            "1\n",
            "1\n"
          ]
        }
      ]
    },
    {
      "cell_type": "code",
      "source": [
        "b = 2\n",
        "print(b)"
      ],
      "metadata": {
        "colab": {
          "base_uri": "https://localhost:8080/"
        },
        "id": "puYxIuWUh9Q0",
        "outputId": "0b238f4c-0fef-4ad2-a43d-a4f52d2b332e"
      },
      "execution_count": 30,
      "outputs": [
        {
          "output_type": "stream",
          "name": "stdout",
          "text": [
            "2\n"
          ]
        }
      ]
    },
    {
      "cell_type": "code",
      "source": [
        "#b = 45\n",
        "print(b)"
      ],
      "metadata": {
        "colab": {
          "base_uri": "https://localhost:8080/"
        },
        "id": "rlrogiakiAf7",
        "outputId": "d096c311-1c95-4582-8682-f188a8685a68"
      },
      "execution_count": 31,
      "outputs": [
        {
          "output_type": "stream",
          "name": "stdout",
          "text": [
            "2\n"
          ]
        }
      ]
    },
    {
      "cell_type": "code",
      "source": [
        "x , y, z , a = 5 , 6, 7  , 8\n",
        "print(x)\n",
        "print(y)\n",
        "print(z)"
      ],
      "metadata": {
        "colab": {
          "base_uri": "https://localhost:8080/"
        },
        "id": "1GGuL1X3iEJ4",
        "outputId": "2c782c9b-ff5b-422f-c620-7fbd721809e3"
      },
      "execution_count": 32,
      "outputs": [
        {
          "output_type": "stream",
          "name": "stdout",
          "text": [
            "5\n",
            "6\n",
            "7\n"
          ]
        }
      ]
    },
    {
      "cell_type": "code",
      "source": [
        "x = 5\n",
        "y = 5\n",
        "x = 10\n",
        "print(x)\n",
        "print(y)\n",
        "print(id(x))\n",
        "print(id(y))"
      ],
      "metadata": {
        "colab": {
          "base_uri": "https://localhost:8080/"
        },
        "id": "6IenjCrtiJZ9",
        "outputId": "acbb9aa9-b506-4eb0-b5bf-8ff913019215"
      },
      "execution_count": 33,
      "outputs": [
        {
          "output_type": "stream",
          "name": "stdout",
          "text": [
            "10\n",
            "5\n",
            "9793376\n",
            "9793216\n"
          ]
        }
      ]
    },
    {
      "cell_type": "code",
      "source": [
        "x = \"Hello\"\n",
        "print(id(x))\n",
        "y = \"Hello1\"\n",
        "print(id(y))"
      ],
      "metadata": {
        "colab": {
          "base_uri": "https://localhost:8080/"
        },
        "id": "zRWxAgC1iOsw",
        "outputId": "6502d9ac-ca77-4354-d799-b76a34c3ec19"
      },
      "execution_count": 34,
      "outputs": [
        {
          "output_type": "stream",
          "name": "stdout",
          "text": [
            "139956032129328\n",
            "139956032127536\n"
          ]
        }
      ]
    },
    {
      "cell_type": "code",
      "source": [
        "string_var = \"Programming\"\n",
        "first_var = 20\n",
        "float_var = 18.23\n",
        "bool_var = False\n",
        "\n",
        "print(string_var)\n",
        "print(first_var)\n",
        "print(float_var)\n",
        "print(bool_var)\n",
        "\n"
      ],
      "metadata": {
        "colab": {
          "base_uri": "https://localhost:8080/"
        },
        "id": "daj6KF0MjBwV",
        "outputId": "5ffbdb0e-6119-4ae7-a080-cde0b07e2f9f"
      },
      "execution_count": 35,
      "outputs": [
        {
          "output_type": "stream",
          "name": "stdout",
          "text": [
            "Programming\n",
            "20\n",
            "18.23\n",
            "False\n"
          ]
        }
      ]
    },
    {
      "cell_type": "code",
      "source": [
        "string_var = \"Programming\"\n",
        "first_var = 20\n",
        "float_var = 18.23\n",
        "bool_var = False\n",
        "\n",
        "print(string_var)\n",
        "print(first_var)\n",
        "print(float_var)\n",
        "print(bool_var)\n",
        "\n"
      ],
      "metadata": {
        "colab": {
          "base_uri": "https://localhost:8080/"
        },
        "id": "Ib6OsxHAjHh0",
        "outputId": "d7ea3570-c701-45c6-f0d6-adc592e3a450"
      },
      "execution_count": 37,
      "outputs": [
        {
          "output_type": "stream",
          "name": "stdout",
          "text": [
            "Programming\n",
            "20\n",
            "18.23\n",
            "False\n"
          ]
        }
      ]
    },
    {
      "cell_type": "code",
      "source": [
        "Var1 = 5\n",
        "var1 = 1\n",
        "print(var1)\n",
        "print(Var1)\n",
        "var2 = 2.5\n",
        "print(type(var2))\n",
        "var3 = \"\"\"Hello\"\"\"\n",
        "print(type(var3))\n",
        "var4 = True\n",
        "print(type(var4))"
      ],
      "metadata": {
        "colab": {
          "base_uri": "https://localhost:8080/"
        },
        "id": "RbLOu0rojmK6",
        "outputId": "fa5ec568-fbc1-4686-91f7-249dd3e423a6"
      },
      "execution_count": 38,
      "outputs": [
        {
          "output_type": "stream",
          "name": "stdout",
          "text": [
            "1\n",
            "5\n",
            "<class 'float'>\n",
            "<class 'str'>\n",
            "<class 'bool'>\n"
          ]
        }
      ]
    },
    {
      "cell_type": "code",
      "source": [
        "first = \"105\"\n",
        "print(type(first))\n",
        "first = int(first)\n",
        "print(first)\n",
        "print(type(first))\n",
        "second = 90.8\n",
        "third = str(second)\n",
        "print(third)\n",
        "print(type(third))\n"
      ],
      "metadata": {
        "colab": {
          "base_uri": "https://localhost:8080/"
        },
        "id": "BRktOvsIj52m",
        "outputId": "338bc307-2660-4b71-b5b0-fe13cacbab2b"
      },
      "execution_count": 39,
      "outputs": [
        {
          "output_type": "stream",
          "name": "stdout",
          "text": [
            "<class 'str'>\n",
            "105\n",
            "<class 'int'>\n",
            "90.8\n",
            "<class 'str'>\n"
          ]
        }
      ]
    },
    {
      "cell_type": "code",
      "source": [
        "string = False\n",
        "string1 = str(string)\n",
        "print(string1)\n",
        "print(type(string1))"
      ],
      "metadata": {
        "colab": {
          "base_uri": "https://localhost:8080/"
        },
        "id": "I9SN0ZT7kCR1",
        "outputId": "d1fb8b99-cad3-4b5f-97bb-2ee7641a2efc"
      },
      "execution_count": 41,
      "outputs": [
        {
          "output_type": "stream",
          "name": "stdout",
          "text": [
            "False\n",
            "<class 'str'>\n"
          ]
        }
      ]
    },
    {
      "cell_type": "code",
      "source": [
        "integer = 6\n",
        "boolean = bool(integer)\n",
        "print(boolean)"
      ],
      "metadata": {
        "colab": {
          "base_uri": "https://localhost:8080/"
        },
        "id": "vEzVFh50kFPp",
        "outputId": "a4fea3a9-f5f2-467e-ac0c-8905a9386d30"
      },
      "execution_count": 43,
      "outputs": [
        {
          "output_type": "stream",
          "name": "stdout",
          "text": [
            "True\n"
          ]
        }
      ]
    },
    {
      "cell_type": "code",
      "source": [
        "boolean = True\n",
        "integer = int(boolean)\n",
        "print(integer)"
      ],
      "metadata": {
        "colab": {
          "base_uri": "https://localhost:8080/"
        },
        "id": "tjtEbBtZktbp",
        "outputId": "5168081b-560b-4ee8-bac2-3297177fbd7b"
      },
      "execution_count": 71,
      "outputs": [
        {
          "output_type": "stream",
          "name": "stdout",
          "text": [
            "1\n"
          ]
        }
      ]
    },
    {
      "cell_type": "code",
      "source": [
        "x = int(input(\"Enter anything\"))\n",
        "#print(x + 5)\n",
        "#print(type(x))"
      ],
      "metadata": {
        "colab": {
          "base_uri": "https://localhost:8080/"
        },
        "id": "qawf9Ylhky8g",
        "outputId": "281eea34-baf1-4f41-df42-6e14d8fc46ad"
      },
      "execution_count": 48,
      "outputs": [
        {
          "name": "stdout",
          "output_type": "stream",
          "text": [
            "Enter anything187\n"
          ]
        }
      ]
    },
    {
      "cell_type": "code",
      "source": [
        "print('My name is Tahmas.')\n",
        "a = \"6\""
      ],
      "metadata": {
        "colab": {
          "base_uri": "https://localhost:8080/"
        },
        "id": "T2Pqq3z6lIva",
        "outputId": "0c56e57a-dcae-4b24-e515-dd23bc502b9f"
      },
      "execution_count": 49,
      "outputs": [
        {
          "output_type": "stream",
          "name": "stdout",
          "text": [
            "My name is Tahmas.\n"
          ]
        }
      ]
    },
    {
      "cell_type": "code",
      "source": [
        "x = \"Python is\"\n",
        "X = bool(x)\n",
        "print(X)\n",
        "print(type(X))"
      ],
      "metadata": {
        "colab": {
          "base_uri": "https://localhost:8080/"
        },
        "id": "Zk-NJqsGlN5a",
        "outputId": "bfa6bbb0-3e53-42a4-f3da-da516acd46ac"
      },
      "execution_count": 50,
      "outputs": [
        {
          "output_type": "stream",
          "name": "stdout",
          "text": [
            "True\n",
            "<class 'bool'>\n"
          ]
        }
      ]
    },
    {
      "cell_type": "code",
      "source": [
        "a = int(input(\"Enter username: \"))\n",
        "print(a)\n",
        "print(type(a))\n",
        "print(a+2)"
      ],
      "metadata": {
        "colab": {
          "base_uri": "https://localhost:8080/"
        },
        "id": "i5MHe1U5lVFO",
        "outputId": "f1a0b08f-b98c-4de4-ff65-ab407349125a"
      },
      "execution_count": 51,
      "outputs": [
        {
          "output_type": "stream",
          "name": "stdout",
          "text": [
            "Enter username: 1\n",
            "1\n",
            "<class 'int'>\n",
            "3\n"
          ]
        }
      ]
    },
    {
      "cell_type": "code",
      "source": [
        "print(8.0+4)"
      ],
      "metadata": {
        "colab": {
          "base_uri": "https://localhost:8080/"
        },
        "id": "y4Dshg3_leqU",
        "outputId": "3e4360b3-7c6e-4348-a36b-f318a071f0e3"
      },
      "execution_count": 52,
      "outputs": [
        {
          "output_type": "stream",
          "name": "stdout",
          "text": [
            "12.0\n"
          ]
        }
      ]
    },
    {
      "cell_type": "code",
      "source": [
        "#Addition\n",
        "a = int(input(\"Enter a number \"))\n",
        "b = 4\n",
        "c = a + b\n",
        "print(c)\n",
        "print(type(c))\n",
        "#print(3 + 7)\n"
      ],
      "metadata": {
        "colab": {
          "base_uri": "https://localhost:8080/"
        },
        "id": "oYmdOZmnlqRf",
        "outputId": "3ae33100-e299-4624-a976-d84503776de0"
      },
      "execution_count": 53,
      "outputs": [
        {
          "output_type": "stream",
          "name": "stdout",
          "text": [
            "Enter a number 1\n",
            "5\n",
            "<class 'int'>\n"
          ]
        }
      ]
    },
    {
      "cell_type": "code",
      "source": [
        "#Subtraction\n",
        "a = 4\n",
        "b = 5.0\n",
        "\n",
        "print(a - b)\n",
        "print(type(a - b))\n"
      ],
      "metadata": {
        "colab": {
          "base_uri": "https://localhost:8080/"
        },
        "id": "1RKdJjyTl2G3",
        "outputId": "143d6527-7a2c-4c7c-9be6-3dcace416368"
      },
      "execution_count": 54,
      "outputs": [
        {
          "output_type": "stream",
          "name": "stdout",
          "text": [
            "-1.0\n",
            "<class 'float'>\n"
          ]
        }
      ]
    },
    {
      "cell_type": "code",
      "source": [
        "#Multiplication\n",
        "a = 2.0\n",
        "b = 4\n",
        "print(a*b)\n",
        "print(type(a*b))"
      ],
      "metadata": {
        "colab": {
          "base_uri": "https://localhost:8080/"
        },
        "id": "vtbCOf7kmPBP",
        "outputId": "8fe1e15e-2d21-49d7-9fda-5c671bf86a43"
      },
      "execution_count": 55,
      "outputs": [
        {
          "output_type": "stream",
          "name": "stdout",
          "text": [
            "8.0\n",
            "<class 'float'>\n"
          ]
        }
      ]
    },
    {
      "cell_type": "code",
      "source": [
        "#Division\n",
        "x = 5\n",
        "y = 5\n",
        "z = x/y   #12/5\n",
        "print(z)\n",
        "print(type(z))\n",
        "var = int(z)\n",
        "print(var, type(var))"
      ],
      "metadata": {
        "colab": {
          "base_uri": "https://localhost:8080/"
        },
        "id": "KdLHY52imTfq",
        "outputId": "7ff2a2e6-b26b-4975-b955-d9e3a7b224d8"
      },
      "execution_count": 56,
      "outputs": [
        {
          "output_type": "stream",
          "name": "stdout",
          "text": [
            "1.0\n",
            "<class 'float'>\n",
            "1 <class 'int'>\n"
          ]
        }
      ]
    },
    {
      "cell_type": "code",
      "source": [
        "#Floor Division\n",
        "x = 5\n",
        "y = 5\n",
        "z = x//y\n",
        "print(z)\n",
        "print(type(z))"
      ],
      "metadata": {
        "colab": {
          "base_uri": "https://localhost:8080/"
        },
        "id": "N-eqyUjMmZal",
        "outputId": "459399c1-e06e-487a-f3f6-0506e16f2352"
      },
      "execution_count": 57,
      "outputs": [
        {
          "output_type": "stream",
          "name": "stdout",
          "text": [
            "1\n",
            "<class 'int'>\n"
          ]
        }
      ]
    },
    {
      "cell_type": "code",
      "source": [
        "print(-3/2)\n"
      ],
      "metadata": {
        "colab": {
          "base_uri": "https://localhost:8080/"
        },
        "id": "8ihfwY62mh9y",
        "outputId": "efc9db77-1c21-4a22-cff9-60ec50a8445d"
      },
      "execution_count": 58,
      "outputs": [
        {
          "output_type": "stream",
          "name": "stdout",
          "text": [
            "-1.5\n"
          ]
        }
      ]
    },
    {
      "cell_type": "code",
      "source": [
        "#Exponentiation or Exponential\n",
        "x = 5\n",
        "y = 2   # 5 raised to power 2, 5*5\n",
        "print(x**y)  # 1st value = base, 2nd value = power\n",
        "print(type(x**y))"
      ],
      "metadata": {
        "colab": {
          "base_uri": "https://localhost:8080/"
        },
        "id": "As-DUI9Lmqcl",
        "outputId": "c20da255-a175-4f69-a7b2-908048861918"
      },
      "execution_count": 59,
      "outputs": [
        {
          "output_type": "stream",
          "name": "stdout",
          "text": [
            "25\n",
            "<class 'int'>\n"
          ]
        }
      ]
    },
    {
      "cell_type": "code",
      "source": [
        "#Modulus\n",
        "x = 5\n",
        "y = 5\n",
        "print(x%y)\n",
        "print(type(x%y))"
      ],
      "metadata": {
        "colab": {
          "base_uri": "https://localhost:8080/"
        },
        "id": "IB48L_BWmvZq",
        "outputId": "390d8ca4-e40f-4c41-cd11-6f2425cc2dc8"
      },
      "execution_count": 60,
      "outputs": [
        {
          "output_type": "stream",
          "name": "stdout",
          "text": [
            "0\n",
            "<class 'int'>\n"
          ]
        }
      ]
    },
    {
      "cell_type": "code",
      "source": [
        "print(4 * 3 + 2 / 2)\n",
        "# BODMAS"
      ],
      "metadata": {
        "colab": {
          "base_uri": "https://localhost:8080/"
        },
        "id": "WEsftxVdmwo8",
        "outputId": "889eeaae-8fc0-40ce-c390-5ca58196b9fd"
      },
      "execution_count": 61,
      "outputs": [
        {
          "output_type": "stream",
          "name": "stdout",
          "text": [
            "13.0\n"
          ]
        }
      ]
    },
    {
      "cell_type": "code",
      "source": [
        "#print('comment')\n",
        "a = \"\"\"mulitiline\n",
        "comment\n",
        "\"\"\n",
        "''\n",
        "lsdfh\"\"\"\n",
        "print(a)"
      ],
      "metadata": {
        "colab": {
          "base_uri": "https://localhost:8080/"
        },
        "id": "AZ7sqWvQm4Tz",
        "outputId": "23b3c8a9-2530-4924-bf42-9a94e851db9f"
      },
      "execution_count": 62,
      "outputs": [
        {
          "output_type": "stream",
          "name": "stdout",
          "text": [
            "mulitiline\n",
            "comment\n",
            "\"\"\n",
            "''\n",
            "lsdfh\n"
          ]
        }
      ]
    },
    {
      "cell_type": "code",
      "source": [
        "print(12 + 5 * (4 - 2))\n"
      ],
      "metadata": {
        "colab": {
          "base_uri": "https://localhost:8080/"
        },
        "id": "bHmHxd3zm-V-",
        "outputId": "512a5b94-6dc8-483a-9dfd-100ba6438d70"
      },
      "execution_count": 64,
      "outputs": [
        {
          "output_type": "stream",
          "name": "stdout",
          "text": [
            "22\n"
          ]
        }
      ]
    },
    {
      "cell_type": "code",
      "source": [
        "x = 5\n",
        "#x += 3    # x = x+3\n",
        "#x -= 3      # x = x - 3\n",
        "#x *= x       # x = 5*5\n",
        "#x /= 3        # x = x/3\n",
        "#x %= 3\n",
        "#x //= 3\n",
        "x **= 3       \n",
        "print(x)"
      ],
      "metadata": {
        "colab": {
          "base_uri": "https://localhost:8080/"
        },
        "id": "1YDoRDobnQlL",
        "outputId": "43713793-3ba9-4b45-e956-6f571f700cb7"
      },
      "execution_count": 65,
      "outputs": [
        {
          "output_type": "stream",
          "name": "stdout",
          "text": [
            "125\n"
          ]
        }
      ]
    },
    {
      "cell_type": "code",
      "source": [
        "x = 5\n",
        "x **= 5    #x = x**5\n",
        "print(x)"
      ],
      "metadata": {
        "colab": {
          "base_uri": "https://localhost:8080/"
        },
        "id": "Pvz37Me-ob5K",
        "outputId": "f0e08147-304e-4c2b-99f2-39ba81b617fa"
      },
      "execution_count": 66,
      "outputs": [
        {
          "output_type": "stream",
          "name": "stdout",
          "text": [
            "3125\n"
          ]
        }
      ]
    },
    {
      "cell_type": "code",
      "source": [
        "a = 7\n",
        "b = 10\n",
        "print(a!=b)\n",
        "#print(a==b)\n",
        "#print(a<b)\n"
      ],
      "metadata": {
        "colab": {
          "base_uri": "https://localhost:8080/"
        },
        "id": "C1emmCXMohOm",
        "outputId": "13feaa07-2a4c-4b05-9cab-393615c84bed"
      },
      "execution_count": 67,
      "outputs": [
        {
          "output_type": "stream",
          "name": "stdout",
          "text": [
            "True\n"
          ]
        }
      ]
    },
    {
      "cell_type": "code",
      "source": [
        "x = 9\n",
        "#print(x < 11 and  x < 10)\n",
        "print(x < 5 or x < 10)\n",
        "print(not x < 5 and not x < 10)\n",
        "print(not x > 10)\t"
      ],
      "metadata": {
        "colab": {
          "base_uri": "https://localhost:8080/"
        },
        "id": "TezBIO5mpXev",
        "outputId": "0da96882-1a14-4793-f152-4754e8b72e3b"
      },
      "execution_count": 72,
      "outputs": [
        {
          "output_type": "stream",
          "name": "stdout",
          "text": [
            "True\n",
            "False\n",
            "True\n"
          ]
        }
      ]
    },
    {
      "cell_type": "code",
      "source": [
        "x = 9\n",
        "print(not x>10) "
      ],
      "metadata": {
        "colab": {
          "base_uri": "https://localhost:8080/"
        },
        "id": "VRXdPJIvpZF4",
        "outputId": "19b6c1ff-e72d-42b9-c0bb-00feee849330"
      },
      "execution_count": 73,
      "outputs": [
        {
          "output_type": "stream",
          "name": "stdout",
          "text": [
            "True\n"
          ]
        }
      ]
    },
    {
      "cell_type": "code",
      "source": [
        "a = 20\n",
        "b = 70\n",
        "print(a==b or a>b)"
      ],
      "metadata": {
        "colab": {
          "base_uri": "https://localhost:8080/"
        },
        "id": "FgMn6h-hrASW",
        "outputId": "1d50f300-154f-49eb-f892-3a275bba685e"
      },
      "execution_count": 74,
      "outputs": [
        {
          "output_type": "stream",
          "name": "stdout",
          "text": [
            "False\n"
          ]
        }
      ]
    },
    {
      "cell_type": "code",
      "source": [
        "var1 = \"Python for Beginners\"\n",
        "#print(\"p\" in var1)\n",
        "var2 = [\"orange\", 5, \"3.5\"]\n",
        "#print(\"orange\" not in var2)\n",
        "\n",
        "print(\"o\" in \"iCodeGuru\")"
      ],
      "metadata": {
        "colab": {
          "base_uri": "https://localhost:8080/"
        },
        "id": "NL_AKARnrFGT",
        "outputId": "0cec642d-39c7-428d-e5a5-57a05b23ba44"
      },
      "execution_count": 75,
      "outputs": [
        {
          "output_type": "stream",
          "name": "stdout",
          "text": [
            "True\n"
          ]
        }
      ]
    },
    {
      "cell_type": "code",
      "source": [
        "var1 = \"Python for Beginners\"\n",
        "print(\"python\" not in var1) "
      ],
      "metadata": {
        "colab": {
          "base_uri": "https://localhost:8080/"
        },
        "id": "mmOWCCKdrKdL",
        "outputId": "dae8fea4-18d9-41d5-c1e7-0baa84ad355a"
      },
      "execution_count": 76,
      "outputs": [
        {
          "output_type": "stream",
          "name": "stdout",
          "text": [
            "True\n"
          ]
        }
      ]
    },
    {
      "cell_type": "code",
      "source": [
        "a = 10\n",
        "b = 10\n",
        "\n",
        "print(a is b)\n",
        "print(id(a))\n",
        "print(id(b)) "
      ],
      "metadata": {
        "colab": {
          "base_uri": "https://localhost:8080/"
        },
        "id": "gDAzKupgrRX1",
        "outputId": "1141697c-a99a-4cd5-bb68-0475ea6cda16"
      },
      "execution_count": 77,
      "outputs": [
        {
          "output_type": "stream",
          "name": "stdout",
          "text": [
            "True\n",
            "9793376\n",
            "9793376\n"
          ]
        }
      ]
    },
    {
      "cell_type": "code",
      "source": [
        "a = 10\n",
        "b = \"10\"\n",
        "#a = 11\n",
        "print(a is b)\n",
        "print(id(a))\n",
        "print(id(b))"
      ],
      "metadata": {
        "colab": {
          "base_uri": "https://localhost:8080/"
        },
        "id": "OazfG2SWrU6p",
        "outputId": "635e80af-1a84-4b04-ad51-e420df013a53"
      },
      "execution_count": 78,
      "outputs": [
        {
          "output_type": "stream",
          "name": "stdout",
          "text": [
            "False\n",
            "9793376\n",
            "139956954056624\n"
          ]
        }
      ]
    },
    {
      "cell_type": "code",
      "source": [
        "\n",
        "x = \"Python\"\n",
        "print(x)\n",
        "y = 'Programming'\n",
        "print(y)\n"
      ],
      "metadata": {
        "colab": {
          "base_uri": "https://localhost:8080/"
        },
        "id": "QQaQUrvUrXqL",
        "outputId": "6700f288-5651-4cfd-f45d-c1a8dd50b744"
      },
      "execution_count": 79,
      "outputs": [
        {
          "output_type": "stream",
          "name": "stdout",
          "text": [
            "Python\n",
            "Programming\n"
          ]
        }
      ]
    },
    {
      "cell_type": "code",
      "source": [
        "message1 = \"\"\"Hello there, I am learning\n",
        "python programming language!\"\"\"\n",
        "print(message1)\n",
        "message2 = '''\n",
        "\n",
        "Now, we are learning about \n",
        "multiline string'''\n",
        "print(message2)"
      ],
      "metadata": {
        "colab": {
          "base_uri": "https://localhost:8080/"
        },
        "id": "hzgApGF-rs5q",
        "outputId": "4112c511-7365-41b3-db74-62c54837147d"
      },
      "execution_count": 80,
      "outputs": [
        {
          "output_type": "stream",
          "name": "stdout",
          "text": [
            "Hello there, I am learning\n",
            "python programming language!\n",
            "\n",
            "\n",
            "Now, we are learning about \n",
            "multiline string\n"
          ]
        }
      ]
    },
    {
      "cell_type": "code",
      "source": [
        "x = \"String\"\n",
        "y = \"Concatenation\"\n",
        "print(x + y)\n",
        "z = x + \" \" + y  #z = StringConcatenation\n",
        "\n",
        "print(z)"
      ],
      "metadata": {
        "colab": {
          "base_uri": "https://localhost:8080/"
        },
        "id": "aHteLlZIskdK",
        "outputId": "8878d733-ff0e-43ce-c871-737fac588f1e"
      },
      "execution_count": 83,
      "outputs": [
        {
          "output_type": "stream",
          "name": "stdout",
          "text": [
            "StringConcatenation\n",
            "String Concatenation\n"
          ]
        }
      ]
    },
    {
      "cell_type": "code",
      "source": [
        "x = \"Hello\"\n",
        "print(x[4])\n",
        "print(x[0])\n",
        "print(id(x))\n",
        "\n",
        "print(id(x[0]))\n",
        "print(id(x[1]))\n",
        "message = \"\"\"Hello there, I am learning\n",
        "python programming language!\"\"\"\n",
        "print(message[6])\n"
      ],
      "metadata": {
        "colab": {
          "base_uri": "https://localhost:8080/"
        },
        "id": "GLzS6HSJsYr7",
        "outputId": "9aea2baf-6fd7-4a4d-efb3-784099937c71"
      },
      "execution_count": 84,
      "outputs": [
        {
          "output_type": "stream",
          "name": "stdout",
          "text": [
            "o\n",
            "H\n",
            "139956032129328\n",
            "139956959041840\n",
            "139956959485680\n",
            "t\n"
          ]
        }
      ]
    },
    {
      "cell_type": "code",
      "source": [
        "x = \"Enter\"\n",
        "print(id(x))\n",
        "print(id(x[0]))"
      ],
      "metadata": {
        "colab": {
          "base_uri": "https://localhost:8080/"
        },
        "id": "UFP7ZuyXsyQa",
        "outputId": "422aee96-644f-4d03-b9ef-b7a0a4b117a3"
      },
      "execution_count": 85,
      "outputs": [
        {
          "output_type": "stream",
          "name": "stdout",
          "text": [
            "139956941938736\n",
            "139956959041648\n"
          ]
        }
      ]
    },
    {
      "cell_type": "code",
      "source": [
        "x = \"Pakistan \"\n",
        "print(x*5)"
      ],
      "metadata": {
        "colab": {
          "base_uri": "https://localhost:8080/"
        },
        "id": "N7vLG8T6s2Ee",
        "outputId": "570401a0-048f-4d73-f218-a88d02e9aad5"
      },
      "execution_count": 86,
      "outputs": [
        {
          "output_type": "stream",
          "name": "stdout",
          "text": [
            "Pakistan Pakistan Pakistan Pakistan Pakistan \n"
          ]
        }
      ]
    },
    {
      "cell_type": "code",
      "source": [
        "x = \"Hello\"\n",
        "print(id(x))\n",
        "print(id(x[3]))"
      ],
      "metadata": {
        "colab": {
          "base_uri": "https://localhost:8080/"
        },
        "id": "yO_Ysxdbs6uD",
        "outputId": "72abb805-7ce1-40af-d999-0fa33cd22cb3"
      },
      "execution_count": 87,
      "outputs": [
        {
          "output_type": "stream",
          "name": "stdout",
          "text": [
            "139956032129328\n",
            "139956959563440\n"
          ]
        }
      ]
    },
    {
      "cell_type": "code",
      "source": [
        "list1 = [2, 3, 4, 66]     #[66, 3, 4, 2]\n",
        "list1[0] = list1[3]\n",
        "print(list1)"
      ],
      "metadata": {
        "colab": {
          "base_uri": "https://localhost:8080/"
        },
        "id": "Ilo0GARrs8eJ",
        "outputId": "58f12cf6-ac0b-4608-db40-222e6d8c3aed"
      },
      "execution_count": 88,
      "outputs": [
        {
          "output_type": "stream",
          "name": "stdout",
          "text": [
            "[66, 3, 4, 66]\n"
          ]
        }
      ]
    },
    {
      "cell_type": "code",
      "source": [
        "string = \"Python Programming Language\"\n",
        "# print(string[2])\n",
        "print(len(string))\n",
        "x = len(string)\n",
        "print(x)\n"
      ],
      "metadata": {
        "colab": {
          "base_uri": "https://localhost:8080/"
        },
        "id": "Hrz8YJq-tAwc",
        "outputId": "bbd92068-bef3-41f4-b84e-a0d7ba3b2339"
      },
      "execution_count": 89,
      "outputs": [
        {
          "output_type": "stream",
          "name": "stdout",
          "text": [
            "27\n",
            "27\n"
          ]
        }
      ]
    },
    {
      "cell_type": "code",
      "source": [
        "string = \"Python Programming\"\n",
        "print(string.index(\"P\"))\n",
        "index = string.index(\"y\")\n",
        "print(index)"
      ],
      "metadata": {
        "colab": {
          "base_uri": "https://localhost:8080/"
        },
        "id": "sfq5rZA3tDvv",
        "outputId": "13179cf9-39b2-40c0-af29-f18daf3a5b59"
      },
      "execution_count": 93,
      "outputs": [
        {
          "output_type": "stream",
          "name": "stdout",
          "text": [
            "0\n",
            "1\n"
          ]
        }
      ]
    }
  ]
}