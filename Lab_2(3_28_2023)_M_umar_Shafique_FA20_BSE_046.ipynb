{
  "nbformat": 4,
  "nbformat_minor": 0,
  "metadata": {
    "colab": {
      "provenance": []
    },
    "kernelspec": {
      "name": "python3",
      "display_name": "Python 3"
    },
    "language_info": {
      "name": "python"
    }
  },
  "cells": [
    {
      "cell_type": "code",
      "execution_count": 4,
      "metadata": {
        "colab": {
          "base_uri": "https://localhost:8080/"
        },
        "id": "zboD24rdBZ9E",
        "outputId": "e528c913-e64e-4ab7-8ace-b69bbd9618d8"
      },
      "outputs": [
        {
          "output_type": "stream",
          "name": "stdout",
          "text": [
            "{0, 1, 2, 7, 8, 9}\n",
            "{0, 1, 2, 7, 8, 9}\n",
            "{0, 1, 2, 7, 8, 9}\n"
          ]
        }
      ],
      "source": [
        "def symmdiff (a,b):\n",
        "  e=set()\n",
        "  for i in a:\n",
        "    if i not in b:\n",
        "      e.add(i)\n",
        "  for i in b:\n",
        "    if i not in a:\n",
        "      e.add(i)\n",
        "  return e\n",
        "set1={0,1,2,4,5}\n",
        "set2={4,5,7,8,9}\n",
        "a=set1\n",
        "b=set2\n",
        "print(symmdiff(set1,set2))\n",
        "print(set1^set2)\n",
        "print(set2^set1)"
      ]
    },
    {
      "cell_type": "code",
      "source": [
        "def symmdiff (a,b):\n",
        "  e=set()\n",
        "  for i in a:\n",
        "    if i not in b:\n",
        "      e.add(i)\n",
        "  for i in b:\n",
        "    if i not in a:\n",
        "      e.add(i)\n",
        "  return e\n",
        "set1=(0,1,2,4,5)\n",
        "set2=(4,5,7,8,9)\n",
        "a=set1\n",
        "b=set2\n",
        "print(symmdiff(set1,set2))\n",
        "print(set1^set2)\n",
        "print(set2^set1)"
      ],
      "metadata": {
        "colab": {
          "base_uri": "https://localhost:8080/",
          "height": 244
        },
        "id": "F9NuUDn6IYvo",
        "outputId": "3c960f45-9f5a-4424-b9c7-be03916f50d7"
      },
      "execution_count": 21,
      "outputs": [
        {
          "output_type": "stream",
          "name": "stdout",
          "text": [
            "{0, 1, 2, 7, 8, 9}\n"
          ]
        },
        {
          "output_type": "error",
          "ename": "TypeError",
          "evalue": "ignored",
          "traceback": [
            "\u001b[0;31m---------------------------------------------------------------------------\u001b[0m",
            "\u001b[0;31mTypeError\u001b[0m                                 Traceback (most recent call last)",
            "\u001b[0;32m<ipython-input-21-09ef307a906a>\u001b[0m in \u001b[0;36m<module>\u001b[0;34m\u001b[0m\n\u001b[1;32m     13\u001b[0m \u001b[0mb\u001b[0m\u001b[0;34m=\u001b[0m\u001b[0mset2\u001b[0m\u001b[0;34m\u001b[0m\u001b[0;34m\u001b[0m\u001b[0m\n\u001b[1;32m     14\u001b[0m \u001b[0mprint\u001b[0m\u001b[0;34m(\u001b[0m\u001b[0msymmdiff\u001b[0m\u001b[0;34m(\u001b[0m\u001b[0mset1\u001b[0m\u001b[0;34m,\u001b[0m\u001b[0mset2\u001b[0m\u001b[0;34m)\u001b[0m\u001b[0;34m)\u001b[0m\u001b[0;34m\u001b[0m\u001b[0;34m\u001b[0m\u001b[0m\n\u001b[0;32m---> 15\u001b[0;31m \u001b[0mprint\u001b[0m\u001b[0;34m(\u001b[0m\u001b[0mset1\u001b[0m\u001b[0;34m^\u001b[0m\u001b[0mset2\u001b[0m\u001b[0;34m)\u001b[0m\u001b[0;34m\u001b[0m\u001b[0;34m\u001b[0m\u001b[0m\n\u001b[0m\u001b[1;32m     16\u001b[0m \u001b[0mprint\u001b[0m\u001b[0;34m(\u001b[0m\u001b[0mset2\u001b[0m\u001b[0;34m^\u001b[0m\u001b[0mset1\u001b[0m\u001b[0;34m)\u001b[0m\u001b[0;34m\u001b[0m\u001b[0;34m\u001b[0m\u001b[0m\n",
            "\u001b[0;31mTypeError\u001b[0m: unsupported operand type(s) for ^: 'tuple' and 'tuple'"
          ]
        }
      ]
    },
    {
      "cell_type": "code",
      "source": [
        "def symmdiff (a,b,c):\n",
        "  e=set()\n",
        "  for i in a:\n",
        "    if i not in b&c:\n",
        "      e.add(i)\n",
        "  for i in b:\n",
        "    if i not in a&c:\n",
        "      e.add(i)\n",
        "  for i in c:\n",
        "    if i not in a&b:\n",
        "      e.add(i)\n",
        "  return e\n",
        "set1={0,1,2,4,5}\n",
        "set2={4,5,7,8,9}\n",
        "set3={8,9,4,5,0}\n",
        "a=set1\n",
        "b=set2\n",
        "c=set3\n",
        "print(symmdiff(set1,set2,set3))\n",
        "print(set1^set2^set3)\n",
        "print(set2^set1^set3)"
      ],
      "metadata": {
        "colab": {
          "base_uri": "https://localhost:8080/"
        },
        "id": "ot6IFd9xMAjr",
        "outputId": "b76a9b3f-897a-4f99-82f6-8f567996884c"
      },
      "execution_count": 23,
      "outputs": [
        {
          "output_type": "stream",
          "name": "stdout",
          "text": [
            "{0, 1, 2, 7, 8, 9}\n",
            "{1, 2, 4, 5, 7}\n",
            "{1, 2, 4, 5, 7}\n"
          ]
        }
      ]
    },
    {
      "cell_type": "code",
      "source": [
        "sample={(\"Umar\",\"shafique\"):\"0301756756\",(\"Tasawar\",\"Abbas\"):\"0388728778\",}\n",
        "firstname=input(\"Enter first name\")\n",
        "lastname=input(\"Enter last name\")\n",
        "searchtuple=(firstname,lastname)\n",
        "if searchtuple in sample:\n",
        "  print(sample[searchtuple])\n",
        "else:\n",
        "  print(\"Name not Found\")"
      ],
      "metadata": {
        "colab": {
          "base_uri": "https://localhost:8080/"
        },
        "id": "h01RDfg1R1Hg",
        "outputId": "b16f0b60-2a46-473b-ca1d-1bb99c232f0c"
      },
      "execution_count": 26,
      "outputs": [
        {
          "output_type": "stream",
          "name": "stdout",
          "text": [
            "Enter first nameUmar\n",
            "Enter last nameshafique\n",
            "0301756756\n"
          ]
        }
      ]
    },
    {
      "cell_type": "code",
      "source": [
        "sample={\"Umar\":\"0301756756\",\"Tasawar\":\"0388728778\",}\n",
        "firstname=input(\"Enter first name:\")\n",
        "searchtuple=(firstname)\n",
        "if searchtuple in sample:\n",
        "  print(sample[searchtuple])\n",
        "else:\n",
        "  print(\"Name not Found\")"
      ],
      "metadata": {
        "colab": {
          "base_uri": "https://localhost:8080/"
        },
        "id": "c-vCt-_hVJQ1",
        "outputId": "73459e2c-4def-430d-a5f1-077e6ac789dc"
      },
      "execution_count": 31,
      "outputs": [
        {
          "output_type": "stream",
          "name": "stdout",
          "text": [
            "Enter first name:Tasawar\n",
            "0388728778\n"
          ]
        }
      ]
    }
  ]
}