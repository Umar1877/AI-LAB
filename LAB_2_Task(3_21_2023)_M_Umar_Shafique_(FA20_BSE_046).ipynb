{
  "nbformat": 4,
  "nbformat_minor": 0,
  "metadata": {
    "colab": {
      "provenance": []
    },
    "kernelspec": {
      "name": "python3",
      "display_name": "Python 3"
    },
    "language_info": {
      "name": "python"
    }
  },
  "cells": [
    {
      "cell_type": "code",
      "execution_count": 1,
      "metadata": {
        "colab": {
          "base_uri": "https://localhost:8080/"
        },
        "id": "kcGaoGOpcv_Y",
        "outputId": "519c233d-4286-4b36-9203-48a049e1f890"
      },
      "outputs": [
        {
          "output_type": "stream",
          "name": "stdout",
          "text": [
            "True\n"
          ]
        }
      ],
      "source": [
        "def ispalindrome(word):\n",
        "  temp=word[::-1]\n",
        "  if temp.capitalize()==word.capitalize():\n",
        "    return True\n",
        "  else:\n",
        "    return False\n",
        "\n",
        "print(ispalindrome(\"deed\"))"
      ]
    },
    {
      "cell_type": "code",
      "source": [
        "U=input(\"Enter name:\")\n",
        "def ispalindrome(a):\n",
        "  temp=a[::-1]\n",
        "  if temp.capitalize()==a.capitalize():\n",
        "    return True\n",
        "  else:\n",
        "    return False\n",
        "  print(temp)\n",
        "\n",
        " \n",
        "print(ispalindrome(U))\n",
        "\n"
      ],
      "metadata": {
        "colab": {
          "base_uri": "https://localhost:8080/"
        },
        "id": "ggrCrYWhcGSF",
        "outputId": "dab0e0a3-2545-4da1-febf-d7c4ab17d0f3"
      },
      "execution_count": 27,
      "outputs": [
        {
          "output_type": "stream",
          "name": "stdout",
          "text": [
            "Enter name:umar\n",
            "False\n"
          ]
        }
      ]
    },
    {
      "cell_type": "code",
      "source": [
        "U=input(\"Enter name:\")\n",
        "def ispalindrome(a):\n",
        "  temp=a[::-1]\n",
        "  if temp.capitalize()==a.capitalize():\n",
        "    return True\n",
        "  else:\n",
        "    return False\n",
        "  print(temp)\n",
        "\n",
        " \n",
        "print(ispalindrome(U))\n",
        "\n"
      ],
      "metadata": {
        "colab": {
          "base_uri": "https://localhost:8080/"
        },
        "id": "bcFuzdunoLOp",
        "outputId": "63ee9ec1-b844-4fc7-d814-f8210103a43e"
      },
      "execution_count": 28,
      "outputs": [
        {
          "output_type": "stream",
          "name": "stdout",
          "text": [
            "Enter name:Deed\n",
            "True\n"
          ]
        }
      ]
    },
    {
      "cell_type": "code",
      "source": [
        "a=[\n",
        "    [1,0,0],\n",
        "   [0,1,0],\n",
        "   [0,0,1]\n",
        "   ]\n",
        "print(a[2][2])"
      ],
      "metadata": {
        "colab": {
          "base_uri": "https://localhost:8080/"
        },
        "id": "hOVWFjpkkvsu",
        "outputId": "116e03da-1548-4998-9518-662fc5a66560"
      },
      "execution_count": 21,
      "outputs": [
        {
          "output_type": "stream",
          "name": "stdout",
          "text": [
            "1\n"
          ]
        }
      ]
    },
    {
      "cell_type": "code",
      "source": [
        "a=[\n",
        "    [1,0,0],\n",
        "   [0,1,0],\n",
        "   [0,0,1]\n",
        "   ]\n",
        "print(a[-1][-1])"
      ],
      "metadata": {
        "colab": {
          "base_uri": "https://localhost:8080/"
        },
        "id": "3_lzZGmdlXdE",
        "outputId": "bdaacefc-6731-4b45-e5d6-0792eec39980"
      },
      "execution_count": 22,
      "outputs": [
        {
          "output_type": "stream",
          "name": "stdout",
          "text": [
            "1\n"
          ]
        }
      ]
    },
    {
      "cell_type": "code",
      "source": [
        "a=[[\n",
        "    [1,0,0],\n",
        "   [0,1,0],\n",
        "   [0,0,1]\n",
        "  ]]\n",
        "print(a[-1][-1][-1])"
      ],
      "metadata": {
        "colab": {
          "base_uri": "https://localhost:8080/"
        },
        "id": "D16Ipi6nlorJ",
        "outputId": "e0d942ac-ff40-4a6f-ea1f-3276e8cef2b7"
      },
      "execution_count": 26,
      "outputs": [
        {
          "output_type": "stream",
          "name": "stdout",
          "text": [
            "1\n"
          ]
        }
      ]
    },
    {
      "cell_type": "code",
      "source": [
        "for indrow in range (3) :\n",
        "  c.append ([])\n",
        "  for indcol in range (3) :\n",
        "    c[indrow].append (0)\n",
        "    for indaux in range (3):\n",
        "      c[indrow] [indcol] +=a[indrow][indaux] * b[indcol][indaux]\n",
        "print(c)"
      ],
      "metadata": {
        "id": "E-p0PlPRjqHL"
      },
      "execution_count": null,
      "outputs": []
    }
  ]
}