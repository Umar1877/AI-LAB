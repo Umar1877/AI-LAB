{
  "nbformat": 4,
  "nbformat_minor": 0,
  "metadata": {
    "colab": {
      "provenance": []
    },
    "kernelspec": {
      "name": "python3",
      "display_name": "Python 3"
    },
    "language_info": {
      "name": "python"
    }
  },
  "cells": [
    {
      "cell_type": "code",
      "execution_count": 1,
      "metadata": {
        "id": "feHiRL5wEtQC"
      },
      "outputs": [],
      "source": [
        "class node:\n",
        "  def __init__(self,state,parent,actions,totalcost):\n",
        "    self.state =state\n",
        "    self.parent =parent\n",
        "    self.actions =actions\n",
        "    self.totalcost =totalcost\n",
        "\n",
        "graph={\n",
        "        'A': node('A', None , ['B','C','E'], None ),\n",
        "        'B': node('B', None , ['A','D','E'], None ),\n",
        "        'C': node('C', None , ['A','F','G'], None ),\n",
        "        'D': node('D', None , ['B','E'], None ),\n",
        "        'E': node('E', None , ['A','B','D'], None ),\n",
        "        'F': node('F', None , ['C'], None ),\n",
        "        'G': node('G', None , ['C'], None )\n",
        "    \n",
        "    }"
      ]
    },
    {
      "cell_type": "code",
      "source": [
        "def actionsequence (graph,initalstate,goalstate):\n",
        "  solution=[goalstate]\n",
        "  currentparent=graph[goalstate].parent\n",
        "  while currentparent!=None:\n",
        "    solution.append(currentparent)\n",
        "    currentparent=graph[currentparent].parent\n",
        "  solution.reverse()\n",
        "  return solution  \n",
        "def BFS():\n",
        "  initialstate='D'\n",
        "  goalstate='F'\n",
        "  graph={'A': node('A', None , ['B','C','E'], None),\n",
        "         'B': node('B', None , ['A','D','E'], None),\n",
        "         'C': node ('C', None , ['A','F','G'], None),\n",
        "         'D': node ('D', None , ['B','E'], None),\n",
        "         'E': node ('E', None , ['A','B','D'], None),\n",
        "         'F': node ('F', None , ['C'], None),\n",
        "         'G': node ('G', None , ['C'], None)\n",
        "        }\n",
        "  frontier=[initialstate]\n",
        "  explored=[]\n",
        "  while len(frontier)!=0:\n",
        "    currentnode =frontier.pop(0)\n",
        "    explored.append(currentnode)\n",
        "    for child in graph[currentnode].actions:\n",
        "      if child not in frontier and child not in explored:\n",
        "        graph[child].parent=currentnode\n",
        "        if graph[child].state==goalstate:\n",
        "          return actionsequence(graph,initialstate,goalstate)\n",
        "        frontier.append(child)\n",
        "solution= BFS()\n",
        "print(solution)"
      ],
      "metadata": {
        "colab": {
          "base_uri": "https://localhost:8080/"
        },
        "id": "ZR828rZvaWuJ",
        "outputId": "7a3db8a6-4983-4849-bb1f-8c0183f6b069"
      },
      "execution_count": 2,
      "outputs": [
        {
          "output_type": "stream",
          "name": "stdout",
          "text": [
            "['D', 'B', 'A', 'C', 'F']\n"
          ]
        }
      ]
    },
    {
      "cell_type": "code",
      "source": [],
      "metadata": {
        "id": "zMHvrYQtTWUZ"
      },
      "execution_count": null,
      "outputs": []
    }
  ]
}